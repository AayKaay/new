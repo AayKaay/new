{
  "nbformat": 4,
  "nbformat_minor": 0,
  "metadata": {
    "colab": {
      "name": "Funcions",
      "provenance": [],
      "include_colab_link": true
    },
    "kernelspec": {
      "name": "python3",
      "display_name": "Python 3"
    }
  },
  "cells": [
    {
      "cell_type": "markdown",
      "metadata": {
        "id": "view-in-github",
        "colab_type": "text"
      },
      "source": [
        "<a href=\"https://colab.research.google.com/github/AayKaay/hello-world/blob/new/Funcions.ipynb\" target=\"_parent\"><img src=\"https://colab.research.google.com/assets/colab-badge.svg\" alt=\"Open In Colab\"/></a>"
      ]
    },
    {
      "cell_type": "markdown",
      "metadata": {
        "id": "Iu2QLD-1zSPf",
        "colab_type": "text"
      },
      "source": [
        "**Testing 5 functions**"
      ]
    },
    {
      "cell_type": "code",
      "metadata": {
        "id": "6EnvZlCRglMd",
        "colab_type": "code",
        "colab": {
          "base_uri": "https://localhost:8080/",
          "height": 238
        },
        "outputId": "d85bab80-1e74-405f-f1c2-d716ea5c3ca5"
      },
      "source": [
        "myString = \"\"\"Name:{}\n",
        "University:{}\n",
        "Course:{}\n",
        "\"\"\"\n",
        "#Function 1: String.Format() \n",
        "#Function 2: input()\n",
        "newList = [myString.format(input(\"Enter your Name.\"),input(\"Enter your University.\"),input(\"Enter your Course.\")),myString.format(input(\"Enter your Name.\"),input(\"Enter your University.\"),input(\"Enter your Course.\")),myString.format(input(\"Enter your Name.\"),input(\"Enter your University.\"),input(\"Enter your Course.\"))]\n",
        "print(newList[1])"
      ],
      "execution_count": 2,
      "outputs": [
        {
          "output_type": "stream",
          "text": [
            "Enter your Name.1\n",
            "Enter your University.1\n",
            "Enter your Course.1\n",
            "Enter your Name.2\n",
            "Enter your University.2\n",
            "Enter your Course.2\n",
            "Enter your Name.3\n",
            "Enter your University.3\n",
            "Enter your Course.3\n",
            "Name:2\n",
            "University:2\n",
            "Course:2\n",
            "\n"
          ],
          "name": "stdout"
        }
      ]
    },
    {
      "cell_type": "code",
      "metadata": {
        "id": "FWdzNqsEiADP",
        "colab_type": "code",
        "colab": {
          "base_uri": "https://localhost:8080/",
          "height": 68
        },
        "outputId": "61cf1496-3876-4c05-cd87-3b35db5f4646"
      },
      "source": [
        "myString = \"A quick brown.\"\n",
        "# Function 3: len(); returns length of the string.\n",
        "print(len(myString))\n",
        "myString= input(\"Enter a value or string.\")\n",
        "# Function 4: string.isnumeric(); Returns true if variable is numeric.\n",
        "if(myString.isnumeric()):\n",
        "  print(\"You entered Numeric data.\")\n",
        "else:\n",
        "  print(\"You entered string.\")"
      ],
      "execution_count": 10,
      "outputs": [
        {
          "output_type": "stream",
          "text": [
            "14\n",
            "Enter a value or string.45hj\n",
            "You entered string.\n"
          ],
          "name": "stdout"
        }
      ]
    },
    {
      "cell_type": "code",
      "metadata": {
        "id": "upZk0YMyib18",
        "colab_type": "code",
        "colab": {
          "base_uri": "https://localhost:8080/",
          "height": 34
        },
        "outputId": "630abb4e-78fd-4eaa-ab0e-3398b5e889f9"
      },
      "source": [
        "newInt = -12\n",
        "# Function 5: abs(); Gets the absolute value of the number.\n",
        "print(abs(newInt))\n"
      ],
      "execution_count": 4,
      "outputs": [
        {
          "output_type": "stream",
          "text": [
            "12\n"
          ],
          "name": "stdout"
        }
      ]
    }
  ]
}